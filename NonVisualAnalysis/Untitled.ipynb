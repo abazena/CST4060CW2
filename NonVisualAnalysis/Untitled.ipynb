{
 "cells": [
  {
   "cell_type": "markdown",
   "metadata": {},
   "source": [
    "# PowMon app.py\n",
    "\n",
    "a data accoution system that collects power consumption readings from arduinos using serial. \n",
    "the system works in a multitreaded style and can connect to muliple arduinos at the same time"
   ]
  },
  {
   "cell_type": "markdown",
   "metadata": {},
   "source": [
    "## Import all dependencies and third party libraries"
   ]
  },
  {
   "cell_type": "code",
   "execution_count": null,
   "metadata": {},
   "outputs": [],
   "source": [
    "import yaml\n",
    "import serial\n",
    "import pathlib\n",
    "from cryptography.fernet import Fernet\n",
    "import time\n",
    "import threading\n",
    "import requests\n",
    "import os\n",
    "from threading import Lock"
   ]
  },
  {
   "cell_type": "markdown",
   "metadata": {},
   "source": [
    "## Global Vars\n",
    "<b>OKBLUE,OKGREEN,OKCYAN,WARNING,FAIL</b> :  a number of global vars that are mainly used to style the color of the output <br>\n",
    "<b>lock</b>: a lock var that is used to syncronize the write to file functionalty"
   ]
  },
  {
   "cell_type": "code",
   "execution_count": null,
   "metadata": {},
   "outputs": [],
   "source": [
    "OKBLUE  = '\\033[94m'\n",
    "OKGREEN = '\\033[92m'\n",
    "OKCYAN = '\\033[96m'\n",
    "WARNING = '\\033[93m'\n",
    "FAIL = '\\033[91m'\n",
    "lock = Lock()"
   ]
  },
  {
   "cell_type": "markdown",
   "metadata": {},
   "source": [
    "# Functions\n",
    "\n",
    "### update_conf : \n",
    "a function to update the configuration file with updated configurations if they were changed "
   ]
  },
  {
   "cell_type": "code",
   "execution_count": null,
   "metadata": {},
   "outputs": [],
   "source": [
    "def update_conf():\n",
    "    settings['EHOST'] = \"\"\n",
    "    with open(settings['PROJECT_ROOT'] + \"/settings.yaml\", \"w\") as _file:\n",
    "        yaml.dump(settings, _file)"
   ]
  },
  {
   "cell_type": "markdown",
   "metadata": {},
   "source": [
    "### write_file\n",
    "#### Parameters\n",
    "<b>String - payload: </b> data to write to file\n",
    "#### Description\n",
    "a function that writes the passed string to the data file. this function checks if the current data file has reached the size limite then either creates a new file and calls the update_conf function or just saves the data "
   ]
  },
  {
   "cell_type": "code",
   "execution_count": null,
   "metadata": {},
   "outputs": [],
   "source": [
    "def write_file(payload):\n",
    "    try:\n",
    "        path = settings['LOCAL_DATA_ROOT'] + settings['LOCAL_DATA_FILE']\n",
    "        fsize = os.path.getsize(path)\n",
    "        if(fsize >= settings['FILE_SIZE_LIMIT']):\n",
    "            settings['LOCAL_DATA_FILE'] = \"/\" + str(time.time()).replace('.' , '') + \"-data.csv\"\n",
    "            path = settings['LOCAL_DATA_ROOT'] + settings['LOCAL_DATA_FILE']\n",
    "            update_conf()\n",
    "        with open( path, \"a+\") as file_object:\n",
    "            file_object.write(payload)\n",
    "        return True\n",
    "    except Exception as e:\n",
    "        print(FAIL + '[ERROR]' + e)\n",
    "        return False"
   ]
  },
  {
   "cell_type": "markdown",
   "metadata": {},
   "source": [
    "### local_save\n",
    "#### Parameters\n",
    "<b>String - data: </b> data to write to file\n",
    "#### Description\n",
    "a function that checks if SYNC_WRITE is enabled or not and saves the data accordingly"
   ]
  },
  {
   "cell_type": "code",
   "execution_count": null,
   "metadata": {},
   "outputs": [],
   "source": [
    "def local_save(data):\n",
    "    if(settings['SYNC_WRITE'] == True):\n",
    "        with lock:\n",
    "            return write_file(data)\n",
    "    else:\n",
    "        return write_file(data)"
   ]
  },
  {
   "cell_type": "markdown",
   "metadata": {},
   "source": [
    "### log\n",
    "#### Parameters\n",
    "<b>String - sensor_id: </b> ID of the sensor that collected the data <br>\n",
    "<b>String - payload: </b> collected data <br>\n",
    "<b>String - rstatus: </b> Remote save status <br>\n",
    "<b>String - sstatus: </b> Local save status <br>\n",
    "#### Description\n",
    "a function that prints to the console for user to judge and monitor the behavior of the system. the function has multiple log levels where level 0 will not print anything, level 1 will print sensor_id, rstatus, sstatus and level 2 will print the collected data (payload) and level 3 will print everything sensor_id, rstatus, sstatus, payload"
   ]
  },
  {
   "cell_type": "code",
   "execution_count": null,
   "metadata": {},
   "outputs": [],
   "source": [
    "def log(sensor_id, payload, rstatus, sstatus):\n",
    "    payload = payload.rstrip(\"\\n\")\n",
    "    if(settings['LOG_LEVEL'] == 1):\n",
    "        print(OKBLUE + \"[DEBUG]\\t\" , sensor_id , \"\\t\", rstatus, \"\\t\" , sstatus)\n",
    "    elif(settings['LOG_LEVEL'] == 2):\n",
    "        print(OKBLUE +\"[DEBUG]\\t\" ,payload)\n",
    "    elif(settings['LOG_LEVEL'] == 3):\n",
    "        print(OKBLUE +\"[DEBUG]\\t\" , sensor_id , \"\\t\", rstatus, \"\\t\" , sstatus, \"\\t\" ,payload)"
   ]
  },
  {
   "cell_type": "markdown",
   "metadata": {},
   "source": [
    "### remote_save\n",
    "#### Parameters\n",
    "<b>String - payload: </b> data to be poseted to MDX Servers<br>\n",
    "#### Description\n",
    "a function that posts the collected data to MDX Servers to be stored as a backup. this can be disabled by the user through the config file"
   ]
  },
  {
   "cell_type": "code",
   "execution_count": null,
   "metadata": {},
   "outputs": [],
   "source": [
    "def remote_save(payload):\n",
    "    try: \n",
    "        r = requests.post(settings['EHOST'], data=payload, timeout=1)\n",
    "        return r.status_code\n",
    "    except Exception: \n",
    "        return 500 "
   ]
  },
  {
   "cell_type": "markdown",
   "metadata": {},
   "source": [
    "### flush\n",
    "#### Parameters\n",
    "<b>Object - arduino: </b> the serial object to be flushed<br>\n",
    "#### Description\n",
    "a function that flushes and cleans the specified serial port to remove any unwanted data "
   ]
  },
  {
   "cell_type": "code",
   "execution_count": null,
   "metadata": {},
   "outputs": [],
   "source": [
    "def flush(arduino):\n",
    "    arduino.write(str.encode('r \\n'))\n",
    "    arduino.readline()[:-2]\n",
    "    time.sleep(0.001)\n",
    "    arduino.write(str.encode('r \\n'))\n",
    "    arduino.readline()[:-2]"
   ]
  },
  {
   "cell_type": "markdown",
   "metadata": {},
   "source": [
    "### read_serial\n",
    "#### Parameters\n",
    "<b>Dictionary - sensor: </b> the sensor object retrieved from the config file<br>\n",
    "#### Description\n",
    "a function that establishes a connection to the Arduino and after a successful connection starts to request data based on the interval specified by the user. additionally, this function implements the conversion from raw readings to Amps/Watts. Where \n",
    "\n",
    "<b>ADC Voltage </b> = Raw ADC Reading multiplied by VPP Volts Per Point (5.0 / 1024.0 = 0.0048828125) <b>ADCVoltage = ((RawADC*VPP)-OFFSET)</b> <br>\n",
    "<b>Amps </b> = ADCVoltage devided by Sensor Sinsitivity \"a constant defined in the config file as SNS (0.066)\" <b> Amps=(ADCVoltage/SNS)</b> <br>\n",
    "<b>Watts</b> = Amps multiplied by VCC (5V) <b>Watts= Amps*VCC</b>"
   ]
  },
  {
   "cell_type": "code",
   "execution_count": null,
   "metadata": {},
   "outputs": [],
   "source": [
    "def read_serial(sensor):\n",
    "    try:\n",
    "        arduino = serial.Serial(sensor['PORT'],settings['BUDRATE'],timeout=settings['TIMEOUT'])\n",
    "        time.sleep(1)\n",
    "        flush(arduino)\n",
    "        while True:\n",
    "            arduino.write(str.encode('read \\n'))\n",
    "            time.sleep(0.001) \n",
    "            unix_ts = str(time.time()).replace('.' , '')\n",
    "            data = arduino.readline()[:-2].decode(\"utf-8\")\n",
    "            if data: \n",
    "                try:\n",
    "                    voltage = float(data) * settings['VPP']\n",
    "                    voltage -= settings['OFFSET']\n",
    "                    amps = \"{:.4f}\".format(voltage / settings['SNS'])\n",
    "                    watts = (voltage / settings['SNS']) * settings['VCC']\n",
    "                    if(voltage / settings['SNS'] > 10):\n",
    "                        tmp = \"000\"\n",
    "                        payload = str(unix_ts) + \",\" + sensor['SENSORS_ID'] + \",\" + tmp + \",\" +  tmp + \",\" +tmp+ \",\" + tmp +\"\\n\"\n",
    "                    else:\n",
    "                        payload = str(unix_ts) + \",\" + sensor['SENSORS_ID'] + \",\" + data + \",\" +  \"{:.2f}\".format(voltage) + \",\" +str(amps)+ \",\" + watts +\"\\n\"\n",
    "                    sstatus = local_save(payload)\n",
    "                    rstatus = \"Disabled\"\n",
    "                    if settings['REMOTE_SAVE'] == True:\n",
    "                        rstatus = remote_save(payload)\n",
    "                    if(settings['LOG_LEVEL'] > 0):\n",
    "                        log(sensor['SENSORS_ID'],payload,rstatus,sstatus)\n",
    "                except Exception as e:\n",
    "                    print(FAIL + '[ERROR]' + e)\n",
    "            flush(arduino)\n",
    "            time.sleep(settings['POLLING_DELAY'])\n",
    "    except Exception as e:\n",
    "        print(WARNING + \"[WARNING] attempting to connect to\" , sensor['SENSORS_ID'] , e)\n",
    "        time.sleep(5)\n",
    "        read_serial(sensor)\n"
   ]
  },
  {
   "cell_type": "markdown",
   "metadata": {},
   "source": [
    "## Main\n",
    "Reads config file and starts multiple threads to handle all sensors defined in the config file.  "
   ]
  },
  {
   "cell_type": "code",
   "execution_count": null,
   "metadata": {},
   "outputs": [],
   "source": [
    "if __name__ == \"__main__\":\n",
    "    print(OKGREEN + \"[INFO] Starting PowMonDataCollector\")\n",
    "    print(OKGREEN +\"[INFO] Loading Settings\")\n",
    "    with open(str(pathlib.Path(__file__).parent.absolute()) + \"/settings.yaml\", 'r') as stream:\n",
    "        settings = yaml.safe_load(stream)\n",
    "    settings['EHOST'] = Fernet(str.encode(settings['LOCAL_DATA_PATH'])).decrypt(str.encode(settings['HOST'])).decode()\n",
    "    print(OKCYAN +'[Settings]\\tFILE_SIZE_LIMIT = ' , settings['FILE_SIZE_LIMIT'] , '\\tLOG_LEVEL = ' , settings['LOG_LEVEL'] , '\\tSYNC_WRITE =' , settings['SYNC_WRITE'])\n",
    "    for sensor in settings['SENSORS']:\n",
    "        print(OKGREEN +\"[INFO] Starting thread: \" , sensor['SENSORS_ID'])\n",
    "        x = threading.Thread(target=read_serial, args=(sensor,))\n",
    "        x.start()\n",
    "        print(OKGREEN +\"[INFO] Started thread: \" , sensor['SENSORS_ID'])"
   ]
  },
  {
   "cell_type": "markdown",
   "metadata": {},
   "source": [
    "# Settings.yaml \n",
    "## Config file \n",
    "    -BUDRATE: Serial Budrate \n",
    "    -EHOST: Not Available\n",
    "    -FILE_SIZE_LIMIT: Max size of the data file\n",
    "    -HOST: Not Available\n",
    "    -LOCAL_DATA_FILE: Name of the local CSV file \n",
    "    -LOCAL_DATA_PATH: Not Available\n",
    "    -LOCAL_DATA_ROOT: Data Root Directory\n",
    "    -LOG_LEVEL: Log Level\n",
    "    -OFFSET: Voltage offset, a constant to cancel any voltage generated by the sensor\n",
    "    -POLLING_DELAY: Data collection delay in seconds\n",
    "    -PROJECT_ROOT: Root directory\n",
    "    -REMOTE_SAVE: Enable/Disable Remote Save \n",
    "    -SENSORS:\n",
    "    -- PORT: COM4\n",
    "    -  SENSORS_ID: VIC\n",
    "    -- PORT: COM14\n",
    "    -  SENSORS_ID: ATT\n",
    "    -SNS: Sensor Sensitivity\n",
    "    -SYNC_WRITE: Synchronize threads when writing to local file (True or False)\n",
    "    -TIMEOUT: Arduino connection time out in seconds \n",
    "    -VPP: Const Volts Per Point\n",
    "    -VCC: Const Supply Voltage"
   ]
  },
  {
   "cell_type": "code",
   "execution_count": null,
   "metadata": {},
   "outputs": [],
   "source": []
  }
 ],
 "metadata": {
  "kernelspec": {
   "display_name": "Python 3",
   "language": "python",
   "name": "python3"
  },
  "language_info": {
   "codemirror_mode": {
    "name": "ipython",
    "version": 3
   },
   "file_extension": ".py",
   "mimetype": "text/x-python",
   "name": "python",
   "nbconvert_exporter": "python",
   "pygments_lexer": "ipython3",
   "version": "3.8.3"
  }
 },
 "nbformat": 4,
 "nbformat_minor": 4
}
