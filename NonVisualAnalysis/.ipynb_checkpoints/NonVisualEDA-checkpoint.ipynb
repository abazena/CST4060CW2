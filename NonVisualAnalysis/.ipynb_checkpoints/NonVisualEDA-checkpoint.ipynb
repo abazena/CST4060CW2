{
 "cells": [
  {
   "cell_type": "code",
   "execution_count": 1,
   "metadata": {},
   "outputs": [],
   "source": [
    "import numpy as np \n",
    "import pandas as pd\n",
    "from tabulate import tabulate\n",
    "pd.options.mode.chained_assignment = None"
   ]
  },
  {
   "cell_type": "code",
   "execution_count": 2,
   "metadata": {},
   "outputs": [],
   "source": [
    "df = pd.read_csv('./input/data-cars.csv')"
   ]
  },
  {
   "cell_type": "code",
   "execution_count": 3,
   "metadata": {},
   "outputs": [],
   "source": [
    "objects_df = df.select_dtypes(include=['object'])\n",
    "objects_df.drop('Vehicle Name', inplace=True, axis=1)\n",
    "for (columnName, columnData) in objects_df.iteritems():\n",
    "    df[columnName] = df[columnName].replace(\"*\", float(\"NAN\"))\n",
    "    df[columnName] = df[columnName].astype(str).astype(float)\n",
    "\n",
    "df = df.fillna(df.mean())"
   ]
  },
  {
   "cell_type": "code",
   "execution_count": 4,
   "metadata": {},
   "outputs": [],
   "source": [
    "car_types = ['Sedan' , 'Sports Car', 'SUV', 'Wagon', 'Minivan' , 'Pickup']\n",
    "cars = {}\n",
    "for ctype in car_types:\n",
    "    cars[ctype] = df[df[ctype] == 1]"
   ]
  },
  {
   "cell_type": "code",
   "execution_count": 5,
   "metadata": {},
   "outputs": [],
   "source": [
    "def printTable(title, tdata, headers=[]):\n",
    "    print('\\n')\n",
    "    print(title)    \n",
    "    print('\\n')\n",
    "    print(tabulate(tdata, headers= headers, tablefmt=\"pretty\"))\n",
    "    print('\\n')\n"
   ]
  },
  {
   "cell_type": "code",
   "execution_count": 6,
   "metadata": {},
   "outputs": [
    {
     "name": "stdout",
     "output_type": "stream",
     "text": [
      "\n",
      "\n",
      "Pickups have the highest average profit (9.32%)\n",
      "\n",
      "\n",
      "+------------+------------------+-----------------+------------+--------------+\n",
      "|  Car Type  | AVG Retail Price | AVG Dealer Cost | AVG Profit | AVG Profit % |\n",
      "+------------+------------------+-----------------+------------+--------------+\n",
      "|   Sedan    |      29814       |      27446      |    2368    |     7.94     |\n",
      "| Sports Car |      53387       |      48473      |    4914    |     9.20     |\n",
      "|    SUV     |      34790       |      31625      |    3165    |     9.10     |\n",
      "|   Wagon    |      28840       |      26645      |    2195    |     7.61     |\n",
      "|  Minivan   |      27796       |      25355      |    2441    |     8.78     |\n",
      "|   Pickup   |      24941       |      22616      |    2325    |     9.32     |\n",
      "+------------+------------------+-----------------+------------+--------------+\n",
      "\n",
      "\n"
     ]
    }
   ],
   "source": [
    "prices = []\n",
    "for key, vals in cars.items():\n",
    "    retail_p = int(vals['Retail Price'].mean())\n",
    "    dealer_c = int(vals['Dealer Cost'].mean())\n",
    "    profit = retail_p - dealer_c\n",
    "    percentage = \"{:.2f}\".format( profit / retail_p * 100)\n",
    "    prices.append([key,retail_p, dealer_c, profit, percentage])\n",
    "\n",
    "headers = ['Car Type', 'AVG Retail Price', 'AVG Dealer Cost', 'AVG Profit', 'AVG Profit %']\n",
    "title = \"Pickups have the highest average profit (9.32%)\"\n",
    "\n",
    "printTable(title, prices, headers)"
   ]
  },
  {
   "cell_type": "code",
   "execution_count": 7,
   "metadata": {},
   "outputs": [
    {
     "name": "stdout",
     "output_type": "stream",
     "text": [
      "\n",
      "\n",
      "Sedans have the Hieghets AVG City MPG per Cyl Count\n",
      "\n",
      "\n",
      "+------------+-------+-------+-------+\n",
      "|  Car Type  | 4 Cyl | 6 Cyl | 8 Cyl |\n",
      "+------------+-------+-------+-------+\n",
      "|   Sedan    | 25.70 | 19.35 | 17.35 |\n",
      "| Sports Car | 21.18 | 18.70 | 17.01 |\n",
      "|    SUV     | 21.14 | 16.87 | 13.73 |\n",
      "|   Wagon    | 24.15 | 18.73 | 16.00 |\n",
      "|  Minivan   | 20.00 | 17.79 |  nan  |\n",
      "|   Pickup   | 21.33 | 15.56 | 15.12 |\n",
      "+------------+-------+-------+-------+\n",
      "\n",
      "\n"
     ]
    }
   ],
   "source": [
    "tdata = []\n",
    "for key, vals in cars.items():\n",
    "    fcyl = \"{:.2f}\".format(vals[vals['Cyl'] == 4]['City MPG'].mean())\n",
    "    scyl = \"{:.2f}\".format(vals[vals['Cyl'] == 6]['City MPG'].mean())\n",
    "    ecyl = \"{:.2f}\".format(vals[vals['Cyl'] == 8]['City MPG'].mean())\n",
    "    tdata.append([key , fcyl, scyl, ecyl])\n",
    "    \n",
    "title = \"Sedans have the Hieghets AVG City MPG per Cyl Count\"\n",
    "headers = ['Car Type', '4 Cyl', '6 Cyl', '8 Cyl']\n",
    "printTable(title, tdata, headers)  "
   ]
  },
  {
   "cell_type": "code",
   "execution_count": 8,
   "metadata": {},
   "outputs": [
    {
     "name": "stdout",
     "output_type": "stream",
     "text": [
      "\n",
      "\n",
      "Sedans have the Hieghets AVG Hwy MPG per Cyl Count\n",
      "\n",
      "\n",
      "+------------+-------+-------+-------+\n",
      "|  Car Type  | 4 Cyl | 6 Cyl | 8 Cyl |\n",
      "+------------+-------+-------+-------+\n",
      "|   Sedan    | 32.94 | 27.37 | 24.76 |\n",
      "| Sports Car | 28.00 | 26.10 | 24.14 |\n",
      "|    SUV     | 25.43 | 21.60 | 17.77 |\n",
      "|   Wagon    | 31.28 | 25.36 | 22.25 |\n",
      "|  Minivan   | 26.00 | 24.37 |  nan  |\n",
      "|   Pickup   | 26.67 | 20.11 | 19.21 |\n",
      "+------------+-------+-------+-------+\n",
      "\n",
      "\n"
     ]
    }
   ],
   "source": [
    "tdata = []\n",
    "for key, vals in cars.items():\n",
    "    fcyl = \"{:.2f}\".format(vals[vals['Cyl'] == 4]['Hwy MPG'].mean())\n",
    "    scyl = \"{:.2f}\".format(vals[vals['Cyl'] == 6]['Hwy MPG'].mean())\n",
    "    ecyl = \"{:.2f}\".format(vals[vals['Cyl'] == 8]['Hwy MPG'].mean())    \n",
    "    tdata.append([key , fcyl, scyl, ecyl])\n",
    "    \n",
    "title = \"Sedans have the Hieghets AVG Hwy MPG per Cyl Count\"\n",
    "headers = ['Car Type', '4 Cyl', '6 Cyl', '8 Cyl']\n",
    "printTable(title, tdata, headers)  "
   ]
  },
  {
   "cell_type": "code",
   "execution_count": 9,
   "metadata": {},
   "outputs": [
    {
     "name": "stdout",
     "output_type": "stream",
     "text": [
      "\n",
      "\n",
      "Most car types share a strong negative correlation between Cyl Count and City/Hwy MPG \n",
      " Hiegher Cyl Count means Lower City/Hwy MPG\n",
      "\n",
      "\n",
      "+------------+----------+---------+\n",
      "|  Car Type  | City MPG | Hwy MPG |\n",
      "+------------+----------+---------+\n",
      "|   Sedan    |  -0.60   |  -0.62  |\n",
      "| Sports Car |  -0.44   |  -0.39  |\n",
      "|    SUV     |  -0.73   |  -0.64  |\n",
      "|   Wagon    |  -0.75   |  -0.79  |\n",
      "|  Minivan   |  -0.34   |  -0.15  |\n",
      "|   Pickup   |  -0.71   |  -0.71  |\n",
      "+------------+----------+---------+\n",
      "\n",
      "\n"
     ]
    }
   ],
   "source": [
    "tdata = []\n",
    "for key, vals in cars.items():\n",
    "    city = \"{:.2f}\".format(vals['Cyl'].corr(vals['City MPG']))    \n",
    "    hwy = \"{:.2f}\".format(vals['Cyl'].corr(vals['Hwy MPG']))\n",
    "    tdata.append([key , city, hwy])\n",
    "\n",
    "headers = ['Car Type', 'City MPG', 'Hwy MPG']\n",
    "title = \"Most car types share a strong negative correlation between Cyl Count and City/Hwy MPG \\n Hiegher Cyl Count means Lower City/Hwy MPG\"\n",
    "printTable(title, tdata, headers)  "
   ]
  },
  {
   "cell_type": "code",
   "execution_count": 10,
   "metadata": {},
   "outputs": [
    {
     "name": "stdout",
     "output_type": "stream",
     "text": [
      "\n",
      "\n",
      "A positive correlation between engine properties and retail price \n",
      "Engine properties significantly affect the retail price\n",
      "\n",
      "\n",
      "+-----------------+------+------+\n",
      "| Engine Size (l) | Cyl  |  HP  |\n",
      "+-----------------+------+------+\n",
      "|      0.57       | 0.63 | 0.83 |\n",
      "+-----------------+------+------+\n",
      "\n",
      "\n"
     ]
    }
   ],
   "source": [
    "tdata = []\n",
    "es = \"{:.2f}\".format(df['Engine Size (l)'].corr(df['Retail Price']))\n",
    "cyl = \"{:.2f}\".format(df['Cyl'].corr(df['Retail Price']))\n",
    "hp = \"{:.2f}\".format(df['HP'].corr(df['Retail Price']))\n",
    "tdata.append([es, cyl, hp])\n",
    "headers = ['Engine Size (l)', 'Cyl', 'HP']\n",
    "title = \"A positive correlation between engine properties and retail price \\nEngine properties significantly affect the retail price\"\n",
    "printTable(title, tdata, headers)"
   ]
  },
  {
   "cell_type": "code",
   "execution_count": 13,
   "metadata": {},
   "outputs": [
    {
     "name": "stdout",
     "output_type": "stream",
     "text": [
      "\n",
      "\n",
      "A detailed correlation report between engine properties and retail price\n",
      "\n",
      "\n",
      "+------------+-----------------+------+------+\n",
      "|  Car Type  | Engine Size (l) | Cyl  |  HP  |\n",
      "+------------+-----------------+------+------+\n",
      "|   Sedan    |      0.72       | 0.78 | 0.86 |\n",
      "| Sports Car |      0.50       | 0.50 | 0.80 |\n",
      "|    SUV     |      0.69       | 0.74 | 0.77 |\n",
      "|   Wagon    |      0.75       | 0.74 | 0.84 |\n",
      "|  Minivan   |      0.35       | 0.32 | 0.23 |\n",
      "|   Pickup   |      0.81       | 0.73 | 0.86 |\n",
      "+------------+-----------------+------+------+\n",
      "\n",
      "\n"
     ]
    }
   ],
   "source": [
    "tdata = []\n",
    "for key, vals in cars.items():\n",
    "    es = \"{:.2f}\".format(vals['Engine Size (l)'].corr(vals['Retail Price']))\n",
    "    cyl = \"{:.2f}\".format(vals['Cyl'].corr(vals['Retail Price']))\n",
    "    hp = \"{:.2f}\".format(vals['HP'].corr(vals['Retail Price']))\n",
    "    \n",
    "    tdata.append([key , es, cyl, hp]) \n",
    "\n",
    "headers = ['Car Type', 'Engine Size (l)', 'Cyl', 'HP']\n",
    "title = \"A detailed correlation report between engine properties and retail price\"\n",
    "printTable(title, tdata, headers)"
   ]
  },
  {
   "cell_type": "code",
   "execution_count": 14,
   "metadata": {},
   "outputs": [
    {
     "name": "stdout",
     "output_type": "stream",
     "text": [
      "\n",
      "\n",
      "A negative correlation between City/Hwy MPG and retail price \n",
      "Fuel-efficient vehicles tend to be more expensive\n",
      "\n",
      "\n",
      "+----------+---------+\n",
      "| City MPG | Hwy MPG |\n",
      "+----------+---------+\n",
      "|  -0.45   |  -0.42  |\n",
      "+----------+---------+\n",
      "\n",
      "\n"
     ]
    }
   ],
   "source": [
    "tdata = []\n",
    "city = \"{:.2f}\".format(df['City MPG'].corr(df['Retail Price']))\n",
    "hwy = \"{:.2f}\".format(df['Hwy MPG'].corr(df['Retail Price']))\n",
    "tdata.append([city, hwy])\n",
    "headers = ['City MPG', 'Hwy MPG']\n",
    "title = \"A negative correlation between City/Hwy MPG and retail price \\nFuel-efficient vehicles tend to be more expensive\"\n",
    "printTable(title, tdata, headers)"
   ]
  },
  {
   "cell_type": "code",
   "execution_count": 15,
   "metadata": {},
   "outputs": [
    {
     "name": "stdout",
     "output_type": "stream",
     "text": [
      "\n",
      "\n",
      "Mercedes-Benz CL600 2dr is the most fule efficient sedan with a larger than 3.0L Engine Size\n",
      "\n",
      "\n",
      "+-------------------------+-----------------+-----+----------+---------+\n",
      "|      Vehicle Name       | Engine Size (l) | Cyl | City MPG | Hwy MPG |\n",
      "+-------------------------+-----------------+-----+----------+---------+\n",
      "| Mercedes-Benz CL600 2dr |       5.5       | 12  |   13.0   |  19.0   |\n",
      "|   Audi S4 Quattro 4dr   |       4.2       |  8  |   14.0   |  20.0   |\n",
      "| Mercedes-Benz CL500 2dr |       5.0       |  8  |   16.0   |  24.0   |\n",
      "| Mercedes-Benz E500 4dr  |       5.0       |  8  |   16.0   |  20.0   |\n",
      "| Mercedes-Benz S500 4dr  |       5.0       |  8  |   16.0   |  24.0   |\n",
      "+-------------------------+-----------------+-----+----------+---------+\n",
      "\n",
      "\n"
     ]
    }
   ],
   "source": [
    "sedans = cars.get(\"Sedan\")\n",
    "sedans_3l = sedans[sedans['Engine Size (l)'] > 3.0].sort_values(by='City MPG', ascending=True)\n",
    "top5 = sedans_3l.head(5)\n",
    "tdata = []\n",
    "for index, row in top5.iterrows():\n",
    "    tdata.append([row['Vehicle Name'] , row['Engine Size (l)'], row['Cyl'] , row['City MPG'], row['Hwy MPG'] ])\n",
    "\n",
    "headers = ['Vehicle Name', 'Engine Size (l)', 'Cyl', 'City MPG', 'Hwy MPG']\n",
    "title = \"Mercedes-Benz CL600 2dr is the most fule efficient sedan with a larger than 3.0L Engine Size\"\n",
    "printTable(title, tdata, headers)"
   ]
  },
  {
   "cell_type": "code",
   "execution_count": 16,
   "metadata": {},
   "outputs": [
    {
     "name": "stdout",
     "output_type": "stream",
     "text": [
      "\n",
      "\n",
      "Dodge Viper SRT-10 convertible 2dr is the most compact vehicle with an 8 or more Cylinders engine\n",
      "\n",
      "\n",
      "+-------------------------------------+-----+--------+-------+-------+\n",
      "|            Vehicle Name             | Cyl | Weight | Width |  Len  |\n",
      "+-------------------------------------+-----+--------+-------+-------+\n",
      "| Dodge Viper SRT-10 convertible 2dr  | 10  | 3410.0 | 75.0  | 176.0 |\n",
      "|    Lexus SC 430 convertible 2dr     |  8  | 3840.0 | 72.0  | 178.0 |\n",
      "|    Cadillac XLR convertible 2dr     |  8  | 3647.0 | 72.0  | 178.0 |\n",
      "|     Mercedes-Benz SL55 AMG 2dr      |  8  | 4235.0 | 72.0  | 179.0 |\n",
      "| Mercedes-Benz SL600 convertible 2dr | 12  | 4429.0 | 72.0  | 179.0 |\n",
      "+-------------------------------------+-----+--------+-------+-------+\n",
      "\n",
      "\n"
     ]
    }
   ],
   "source": [
    "cars = df[df['Cyl'] >= 8].sort_values(by='Len', ascending=True)\n",
    "cars = cars.head(5)\n",
    "carswed = cars[cars['Len'] == cars['Len'].min()]\n",
    "carlen = carswed[carswed['Width'] == carswed['Width'].min()]\n",
    "tdata = []\n",
    "for index, row in cars.iterrows():\n",
    "    tdata.append([row['Vehicle Name'] , row['Cyl'], row['Weight'] , row['Width'], row['Len'] ])\n",
    "\n",
    "headers = ['Vehicle Name', 'Cyl', 'Weight', 'Width', 'Len']\n",
    "title = carlen.iloc[0]['Vehicle Name'] + \" is the most compact vehicle with an 8 or more Cylinders engine\"\n",
    "printTable(title, tdata, headers)"
   ]
  },
  {
   "cell_type": "code",
   "execution_count": 17,
   "metadata": {},
   "outputs": [
    {
     "name": "stdout",
     "output_type": "stream",
     "text": [
      "<class 'pandas.core.frame.DataFrame'>\n",
      "RangeIndex: 428 entries, 0 to 427\n",
      "Data columns (total 20 columns):\n",
      " #   Column           Non-Null Count  Dtype  \n",
      "---  ------           --------------  -----  \n",
      " 0   Vehicle Name     428 non-null    object \n",
      " 1   Sedan            428 non-null    int64  \n",
      " 2   Sports Car       428 non-null    int64  \n",
      " 3   SUV              428 non-null    int64  \n",
      " 4   Wagon            428 non-null    int64  \n",
      " 5   Minivan          428 non-null    int64  \n",
      " 6   Pickup           428 non-null    int64  \n",
      " 7   AWD              428 non-null    int64  \n",
      " 8   RWD              428 non-null    int64  \n",
      " 9   Retail Price     428 non-null    int64  \n",
      " 10  Dealer Cost      428 non-null    int64  \n",
      " 11  Engine Size (l)  428 non-null    float64\n",
      " 12  Cyl              428 non-null    int64  \n",
      " 13  HP               428 non-null    int64  \n",
      " 14  City MPG         428 non-null    float64\n",
      " 15  Hwy MPG          428 non-null    float64\n",
      " 16  Weight           428 non-null    float64\n",
      " 17  Wheel Base       428 non-null    float64\n",
      " 18  Len              428 non-null    float64\n",
      " 19  Width            428 non-null    float64\n",
      "dtypes: float64(7), int64(12), object(1)\n",
      "memory usage: 67.0+ KB\n"
     ]
    }
   ],
   "source": [
    "df.info()"
   ]
  },
  {
   "cell_type": "code",
   "execution_count": null,
   "metadata": {},
   "outputs": [],
   "source": []
  }
 ],
 "metadata": {
  "kernelspec": {
   "display_name": "Python 3",
   "language": "python",
   "name": "python3"
  },
  "language_info": {
   "codemirror_mode": {
    "name": "ipython",
    "version": 3
   },
   "file_extension": ".py",
   "mimetype": "text/x-python",
   "name": "python",
   "nbconvert_exporter": "python",
   "pygments_lexer": "ipython3",
   "version": "3.8.3"
  }
 },
 "nbformat": 4,
 "nbformat_minor": 4
}
